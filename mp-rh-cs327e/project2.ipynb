{
 "cells": [
  {
   "cell_type": "code",
   "execution_count": 1,
   "id": "1f1303ee-e20f-45e1-b3e1-07275978fdd9",
   "metadata": {},
   "outputs": [
    {
     "name": "stdout",
     "output_type": "stream",
     "text": [
      "env: PGINSTANCE=pg\n"
     ]
    }
   ],
   "source": [
    "%env PGINSTANCE=pg"
   ]
  },
  {
   "cell_type": "code",
   "execution_count": 3,
   "id": "c4993250-c4e7-44a3-a682-3dc28e285232",
   "metadata": {},
   "outputs": [
    {
     "name": "stdout",
     "output_type": "stream",
     "text": [
      "env: BASE_DIR=/home/jupyter/pagila\n"
     ]
    }
   ],
   "source": [
    "%env BASE_DIR=/home/jupyter/pagila"
   ]
  },
  {
   "cell_type": "code",
   "execution_count": 12,
   "id": "786534e5-229a-4376-ae2a-235fb4b16fa6",
   "metadata": {},
   "outputs": [],
   "source": [
    "# !psql -c \"\\i $BASE_DIR/pagila-schema.sql\""
   ]
  },
  {
   "cell_type": "code",
   "execution_count": 13,
   "id": "b6cdc5d7-2ce4-49b1-a8cf-1dc58ce7ffe4",
   "metadata": {},
   "outputs": [],
   "source": [
    "# !psql -c \"\\i $BASE_DIR/pagila-insert-data.sql\""
   ]
  },
  {
   "cell_type": "code",
   "execution_count": 25,
   "id": "c110683e-24cd-4ea3-906e-e0b07079b4dd",
   "metadata": {},
   "outputs": [
    {
     "name": "stdout",
     "output_type": "stream",
     "text": [
      "                                                Table \"pagila.customer\"\n",
      "   Column    |           Type           | Collation | Nullable |                        Default                        \n",
      "-------------+--------------------------+-----------+----------+-------------------------------------------------------\n",
      " customer_id | integer                  |           | not null | nextval('pagila.customer_customer_id_seq1'::regclass)\n",
      " store_id    | smallint                 |           | not null | \n",
      " first_name  | text                     |           | not null | \n",
      " last_name   | text                     |           | not null | \n",
      " email       | text                     |           |          | \n",
      " address_id  | smallint                 |           | not null | \n",
      " activebool  | boolean                  |           | not null | true\n",
      " create_date | date                     |           | not null | 'now'::text::date\n",
      " last_update | timestamp with time zone |           |          | now()\n",
      " active      | integer                  |           |          | \n",
      "Indexes:\n",
      "    \"customer_pkey\" PRIMARY KEY, btree (customer_id)\n",
      "    \"idx_fk_address_id\" btree (address_id)\n",
      "    \"idx_fk_store_id\" btree (store_id)\n",
      "    \"idx_last_name\" btree (last_name)\n",
      "Foreign-key constraints:\n",
      "    \"customer_address_id_fkey\" FOREIGN KEY (address_id) REFERENCES pagila.address(address_id) ON UPDATE CASCADE ON DELETE RESTRICT\n",
      "    \"customer_store_id_fkey\" FOREIGN KEY (store_id) REFERENCES pagila.store(store_id) ON UPDATE CASCADE ON DELETE RESTRICT\n",
      "Referenced by:\n",
      "    TABLE \"pagila.payment\" CONSTRAINT \"customer_id_fkey\" FOREIGN KEY (customer_id) REFERENCES pagila.customer(customer_id) ON UPDATE CASCADE ON DELETE RESTRICT\n",
      "    TABLE \"pagila.rental\" CONSTRAINT \"rental_customer_id_fkey\" FOREIGN KEY (customer_id) REFERENCES pagila.customer(customer_id) ON UPDATE CASCADE ON DELETE RESTRICT\n",
      "Triggers:\n",
      "    last_updated BEFORE UPDATE ON pagila.customer FOR EACH ROW EXECUTE FUNCTION pagila.last_updated()\n",
      "\n"
     ]
    }
   ],
   "source": [
    "!psql -c \"\\d pagila.customer\""
   ]
  },
  {
   "cell_type": "code",
   "execution_count": 26,
   "id": "4824d783-c1cd-4d39-be83-32ffd31e8efa",
   "metadata": {},
   "outputs": [
    {
     "name": "stdout",
     "output_type": "stream",
     "text": [
      "                                              Table \"pagila.actor\"\n",
      "   Column    |           Type           | Collation | Nullable |                    Default                     \n",
      "-------------+--------------------------+-----------+----------+------------------------------------------------\n",
      " actor_id    | integer                  |           | not null | nextval('pagila.actor_actor_id_seq'::regclass)\n",
      " first_name  | text                     |           | not null | \n",
      " last_name   | text                     |           | not null | \n",
      " last_update | timestamp with time zone |           | not null | now()\n",
      "Indexes:\n",
      "    \"actor_pkey\" PRIMARY KEY, btree (actor_id)\n",
      "    \"idx_actor_last_name\" btree (last_name)\n",
      "Referenced by:\n",
      "    TABLE \"pagila.film_actor\" CONSTRAINT \"film_actor_actor_id_fkey\" FOREIGN KEY (actor_id) REFERENCES pagila.actor(actor_id) ON UPDATE CASCADE ON DELETE RESTRICT\n",
      "Triggers:\n",
      "    last_updated BEFORE UPDATE ON pagila.actor FOR EACH ROW EXECUTE FUNCTION pagila.last_updated()\n",
      "\n"
     ]
    }
   ],
   "source": [
    "!psql -c \"\\d pagila.actor\""
   ]
  },
  {
   "cell_type": "code",
   "execution_count": 27,
   "id": "892e3c5c-79b5-438f-bbcd-f6554b7e2393",
   "metadata": {},
   "outputs": [
    {
     "name": "stdout",
     "output_type": "stream",
     "text": [
      "                                               Table \"pagila.category\"\n",
      "   Column    |           Type           | Collation | Nullable |                       Default                        \n",
      "-------------+--------------------------+-----------+----------+------------------------------------------------------\n",
      " category_id | integer                  |           | not null | nextval('pagila.category_category_id_seq'::regclass)\n",
      " name        | text                     |           | not null | \n",
      " last_update | timestamp with time zone |           | not null | now()\n",
      "Indexes:\n",
      "    \"category_pkey\" PRIMARY KEY, btree (category_id)\n",
      "Referenced by:\n",
      "    TABLE \"pagila.film_category\" CONSTRAINT \"film_category_category_id_fkey\" FOREIGN KEY (category_id) REFERENCES pagila.category(category_id) ON UPDATE CASCADE ON DELETE RESTRICT\n",
      "Triggers:\n",
      "    last_updated BEFORE UPDATE ON pagila.category FOR EACH ROW EXECUTE FUNCTION pagila.last_updated()\n",
      "\n"
     ]
    }
   ],
   "source": [
    "!psql -c \"\\d pagila.category\""
   ]
  },
  {
   "cell_type": "code",
   "execution_count": 28,
   "id": "7e1e7531-46c2-4792-aa81-9e99efdbf04f",
   "metadata": {},
   "outputs": [
    {
     "name": "stdout",
     "output_type": "stream",
     "text": [
      "                                                  Table \"pagila.film\"\n",
      "        Column        |           Type           | Collation | Nullable |                   Default                    \n",
      "----------------------+--------------------------+-----------+----------+----------------------------------------------\n",
      " film_id              | integer                  |           | not null | nextval('pagila.film_film_id_seq'::regclass)\n",
      " title                | text                     |           | not null | \n",
      " description          | text                     |           |          | \n",
      " release_year         | pagila.year              |           |          | \n",
      " language_id          | smallint                 |           | not null | \n",
      " original_language_id | smallint                 |           |          | \n",
      " rental_duration      | smallint                 |           | not null | 3\n",
      " rental_rate          | numeric(4,2)             |           | not null | 4.99\n",
      " length               | smallint                 |           |          | \n",
      " replacement_cost     | numeric(5,2)             |           | not null | 19.99\n",
      " rating               | pagila.mpaa_rating       |           |          | 'G'::pagila.mpaa_rating\n",
      " last_update          | timestamp with time zone |           | not null | now()\n",
      " special_features     | text[]                   |           |          | \n",
      " fulltext             | tsvector                 |           | not null | \n",
      "Indexes:\n",
      "    \"film_pkey\" PRIMARY KEY, btree (film_id)\n",
      "    \"film_fulltext_idx\" gist (fulltext)\n",
      "    \"idx_fk_language_id\" btree (language_id)\n",
      "    \"idx_fk_original_language_id\" btree (original_language_id)\n",
      "    \"idx_title\" btree (title)\n",
      "Foreign-key constraints:\n",
      "    \"film_language_id_fkey\" FOREIGN KEY (language_id) REFERENCES pagila.language(language_id) ON UPDATE CASCADE ON DELETE RESTRICT\n",
      "    \"film_original_language_id_fkey\" FOREIGN KEY (original_language_id) REFERENCES pagila.language(language_id) ON UPDATE CASCADE ON DELETE RESTRICT\n",
      "Referenced by:\n",
      "    TABLE \"pagila.film_actor\" CONSTRAINT \"film_actor_film_id_fkey\" FOREIGN KEY (film_id) REFERENCES pagila.film(film_id) ON UPDATE CASCADE ON DELETE RESTRICT\n",
      "    TABLE \"pagila.film_category\" CONSTRAINT \"film_category_film_id_fkey\" FOREIGN KEY (film_id) REFERENCES pagila.film(film_id) ON UPDATE CASCADE ON DELETE RESTRICT\n",
      "    TABLE \"pagila.inventory\" CONSTRAINT \"inventory_film_id_fkey\" FOREIGN KEY (film_id) REFERENCES pagila.film(film_id) ON UPDATE CASCADE ON DELETE RESTRICT\n",
      "Triggers:\n",
      "    film_fulltext_trigger BEFORE INSERT OR UPDATE ON pagila.film FOR EACH ROW EXECUTE FUNCTION tsvector_update_trigger('fulltext', 'pg_catalog.english', 'title', 'description')\n",
      "    last_updated BEFORE UPDATE ON pagila.film FOR EACH ROW EXECUTE FUNCTION pagila.last_updated()\n",
      "\n"
     ]
    }
   ],
   "source": [
    "!psql -c \"\\d pagila.film\""
   ]
  },
  {
   "cell_type": "code",
   "execution_count": 29,
   "id": "f63eb0b7-f534-45a4-a355-0c837cd975f8",
   "metadata": {},
   "outputs": [
    {
     "name": "stdout",
     "output_type": "stream",
     "text": [
      "                        Table \"pagila.film_actor\"\n",
      "   Column    |           Type           | Collation | Nullable | Default \n",
      "-------------+--------------------------+-----------+----------+---------\n",
      " actor_id    | smallint                 |           | not null | \n",
      " film_id     | smallint                 |           | not null | \n",
      " last_update | timestamp with time zone |           | not null | now()\n",
      "Indexes:\n",
      "    \"film_actor_pkey\" PRIMARY KEY, btree (actor_id, film_id)\n",
      "    \"idx_fk_film_id\" btree (film_id)\n",
      "Foreign-key constraints:\n",
      "    \"film_actor_actor_id_fkey\" FOREIGN KEY (actor_id) REFERENCES pagila.actor(actor_id) ON UPDATE CASCADE ON DELETE RESTRICT\n",
      "    \"film_actor_film_id_fkey\" FOREIGN KEY (film_id) REFERENCES pagila.film(film_id) ON UPDATE CASCADE ON DELETE RESTRICT\n",
      "Triggers:\n",
      "    last_updated BEFORE UPDATE ON pagila.film_actor FOR EACH ROW EXECUTE FUNCTION pagila.last_updated()\n",
      "\n"
     ]
    }
   ],
   "source": [
    "!psql -c \"\\d pagila.film_actor\""
   ]
  },
  {
   "cell_type": "code",
   "execution_count": 30,
   "id": "12af35f8-2e99-40eb-9117-7859770c92ce",
   "metadata": {},
   "outputs": [
    {
     "name": "stdout",
     "output_type": "stream",
     "text": [
      "                      Table \"pagila.film_category\"\n",
      "   Column    |           Type           | Collation | Nullable | Default \n",
      "-------------+--------------------------+-----------+----------+---------\n",
      " film_id     | smallint                 |           | not null | \n",
      " category_id | smallint                 |           | not null | \n",
      " last_update | timestamp with time zone |           | not null | now()\n",
      "Indexes:\n",
      "    \"film_category_pkey\" PRIMARY KEY, btree (film_id, category_id)\n",
      "Foreign-key constraints:\n",
      "    \"film_category_category_id_fkey\" FOREIGN KEY (category_id) REFERENCES pagila.category(category_id) ON UPDATE CASCADE ON DELETE RESTRICT\n",
      "    \"film_category_film_id_fkey\" FOREIGN KEY (film_id) REFERENCES pagila.film(film_id) ON UPDATE CASCADE ON DELETE RESTRICT\n",
      "Triggers:\n",
      "    last_updated BEFORE UPDATE ON pagila.film_category FOR EACH ROW EXECUTE FUNCTION pagila.last_updated()\n",
      "\n"
     ]
    }
   ],
   "source": [
    "!psql -c \"\\d pagila.film_category\""
   ]
  },
  {
   "cell_type": "code",
   "execution_count": 31,
   "id": "e6852ee6-fe66-4969-825a-2302cc7e141a",
   "metadata": {},
   "outputs": [
    {
     "name": "stdout",
     "output_type": "stream",
     "text": [
      "                                               Table \"pagila.address\"\n",
      "   Column    |           Type           | Collation | Nullable |                      Default                       \n",
      "-------------+--------------------------+-----------+----------+----------------------------------------------------\n",
      " address_id  | integer                  |           | not null | nextval('pagila.address_address_id_seq'::regclass)\n",
      " address     | text                     |           | not null | \n",
      " address2    | text                     |           |          | \n",
      " district    | text                     |           | not null | \n",
      " city_id     | smallint                 |           | not null | \n",
      " postal_code | text                     |           |          | \n",
      " phone       | text                     |           | not null | \n",
      " last_update | timestamp with time zone |           | not null | now()\n",
      "Indexes:\n",
      "    \"address_pkey\" PRIMARY KEY, btree (address_id)\n",
      "    \"idx_fk_city_id\" btree (city_id)\n",
      "Foreign-key constraints:\n",
      "    \"address_city_id_fkey\" FOREIGN KEY (city_id) REFERENCES pagila.city(city_id) ON UPDATE CASCADE ON DELETE RESTRICT\n",
      "Referenced by:\n",
      "    TABLE \"pagila.customer\" CONSTRAINT \"customer_address_id_fkey\" FOREIGN KEY (address_id) REFERENCES pagila.address(address_id) ON UPDATE CASCADE ON DELETE RESTRICT\n",
      "    TABLE \"pagila.staff\" CONSTRAINT \"staff_address_id_fkey\" FOREIGN KEY (address_id) REFERENCES pagila.address(address_id) ON UPDATE CASCADE ON DELETE RESTRICT\n",
      "    TABLE \"pagila.store\" CONSTRAINT \"store_address_id_fkey\" FOREIGN KEY (address_id) REFERENCES pagila.address(address_id) ON UPDATE CASCADE ON DELETE RESTRICT\n",
      "Triggers:\n",
      "    last_updated BEFORE UPDATE ON pagila.address FOR EACH ROW EXECUTE FUNCTION pagila.last_updated()\n",
      "\n"
     ]
    }
   ],
   "source": [
    "!psql -c \"\\d pagila.address\""
   ]
  },
  {
   "cell_type": "code",
   "execution_count": 32,
   "id": "5b7df429-b718-47dc-b95f-3ac79f3cf630",
   "metadata": {},
   "outputs": [
    {
     "name": "stdout",
     "output_type": "stream",
     "text": [
      "                                             Table \"pagila.city\"\n",
      "   Column    |           Type           | Collation | Nullable |                   Default                    \n",
      "-------------+--------------------------+-----------+----------+----------------------------------------------\n",
      " city_id     | integer                  |           | not null | nextval('pagila.city_city_id_seq'::regclass)\n",
      " city        | text                     |           | not null | \n",
      " country_id  | smallint                 |           | not null | \n",
      " last_update | timestamp with time zone |           | not null | now()\n",
      "Indexes:\n",
      "    \"city_pkey\" PRIMARY KEY, btree (city_id)\n",
      "    \"idx_fk_country_id\" btree (country_id)\n",
      "Foreign-key constraints:\n",
      "    \"city_country_id_fkey\" FOREIGN KEY (country_id) REFERENCES pagila.country(country_id) ON UPDATE CASCADE ON DELETE RESTRICT\n",
      "Referenced by:\n",
      "    TABLE \"pagila.address\" CONSTRAINT \"address_city_id_fkey\" FOREIGN KEY (city_id) REFERENCES pagila.city(city_id) ON UPDATE CASCADE ON DELETE RESTRICT\n",
      "Triggers:\n",
      "    last_updated BEFORE UPDATE ON pagila.city FOR EACH ROW EXECUTE FUNCTION pagila.last_updated()\n",
      "\n"
     ]
    }
   ],
   "source": [
    "!psql -c \"\\d pagila.city\""
   ]
  },
  {
   "cell_type": "code",
   "execution_count": 33,
   "id": "9792667a-0a41-40ae-9a32-5b173a1e3916",
   "metadata": {},
   "outputs": [
    {
     "name": "stdout",
     "output_type": "stream",
     "text": [
      "                                               Table \"pagila.country\"\n",
      "   Column    |           Type           | Collation | Nullable |                      Default                       \n",
      "-------------+--------------------------+-----------+----------+----------------------------------------------------\n",
      " country_id  | integer                  |           | not null | nextval('pagila.country_country_id_seq'::regclass)\n",
      " country     | text                     |           | not null | \n",
      " last_update | timestamp with time zone |           | not null | now()\n",
      "Indexes:\n",
      "    \"country_pkey\" PRIMARY KEY, btree (country_id)\n",
      "Referenced by:\n",
      "    TABLE \"pagila.city\" CONSTRAINT \"city_country_id_fkey\" FOREIGN KEY (country_id) REFERENCES pagila.country(country_id) ON UPDATE CASCADE ON DELETE RESTRICT\n",
      "Triggers:\n",
      "    last_updated BEFORE UPDATE ON pagila.country FOR EACH ROW EXECUTE FUNCTION pagila.last_updated()\n",
      "\n"
     ]
    }
   ],
   "source": [
    "!psql -c \"\\d pagila.country\""
   ]
  },
  {
   "cell_type": "code",
   "execution_count": 34,
   "id": "4aa5064c-9f33-41b5-84a6-f26d5bb59042",
   "metadata": {},
   "outputs": [
    {
     "name": "stdout",
     "output_type": "stream",
     "text": [
      "                                                Table \"pagila.inventory\"\n",
      "    Column    |           Type           | Collation | Nullable |                        Default                         \n",
      "--------------+--------------------------+-----------+----------+--------------------------------------------------------\n",
      " inventory_id | integer                  |           | not null | nextval('pagila.inventory_inventory_id_seq'::regclass)\n",
      " film_id      | smallint                 |           | not null | \n",
      " store_id     | smallint                 |           | not null | \n",
      " last_update  | timestamp with time zone |           | not null | now()\n",
      "Indexes:\n",
      "    \"inventory_pkey\" PRIMARY KEY, btree (inventory_id)\n",
      "    \"idx_store_id_film_id\" btree (store_id, film_id)\n",
      "Foreign-key constraints:\n",
      "    \"inventory_film_id_fkey\" FOREIGN KEY (film_id) REFERENCES pagila.film(film_id) ON UPDATE CASCADE ON DELETE RESTRICT\n",
      "    \"inventory_store_id_fkey\" FOREIGN KEY (store_id) REFERENCES pagila.store(store_id) ON UPDATE CASCADE ON DELETE RESTRICT\n",
      "Referenced by:\n",
      "    TABLE \"pagila.rental\" CONSTRAINT \"rental_inventory_id_fkey\" FOREIGN KEY (inventory_id) REFERENCES pagila.inventory(inventory_id) ON UPDATE CASCADE ON DELETE RESTRICT\n",
      "Triggers:\n",
      "    last_updated BEFORE UPDATE ON pagila.inventory FOR EACH ROW EXECUTE FUNCTION pagila.last_updated()\n",
      "\n"
     ]
    }
   ],
   "source": [
    "!psql -c \"\\d pagila.inventory\""
   ]
  },
  {
   "cell_type": "code",
   "execution_count": 35,
   "id": "deef2159-4ee5-416a-8458-0cb60a59bab0",
   "metadata": {},
   "outputs": [
    {
     "name": "stdout",
     "output_type": "stream",
     "text": [
      "                                               Table \"pagila.country\"\n",
      "   Column    |           Type           | Collation | Nullable |                      Default                       \n",
      "-------------+--------------------------+-----------+----------+----------------------------------------------------\n",
      " country_id  | integer                  |           | not null | nextval('pagila.country_country_id_seq'::regclass)\n",
      " country     | text                     |           | not null | \n",
      " last_update | timestamp with time zone |           | not null | now()\n",
      "Indexes:\n",
      "    \"country_pkey\" PRIMARY KEY, btree (country_id)\n",
      "Referenced by:\n",
      "    TABLE \"pagila.city\" CONSTRAINT \"city_country_id_fkey\" FOREIGN KEY (country_id) REFERENCES pagila.country(country_id) ON UPDATE CASCADE ON DELETE RESTRICT\n",
      "Triggers:\n",
      "    last_updated BEFORE UPDATE ON pagila.country FOR EACH ROW EXECUTE FUNCTION pagila.last_updated()\n",
      "\n"
     ]
    }
   ],
   "source": [
    "!psql -c \"\\d pagila.country\""
   ]
  },
  {
   "cell_type": "code",
   "execution_count": 36,
   "id": "9c3329b9-80c5-446e-9c2e-375a7d3036e0",
   "metadata": {},
   "outputs": [
    {
     "name": "stdout",
     "output_type": "stream",
     "text": [
      "                                                Table \"pagila.inventory\"\n",
      "    Column    |           Type           | Collation | Nullable |                        Default                         \n",
      "--------------+--------------------------+-----------+----------+--------------------------------------------------------\n",
      " inventory_id | integer                  |           | not null | nextval('pagila.inventory_inventory_id_seq'::regclass)\n",
      " film_id      | smallint                 |           | not null | \n",
      " store_id     | smallint                 |           | not null | \n",
      " last_update  | timestamp with time zone |           | not null | now()\n",
      "Indexes:\n",
      "    \"inventory_pkey\" PRIMARY KEY, btree (inventory_id)\n",
      "    \"idx_store_id_film_id\" btree (store_id, film_id)\n",
      "Foreign-key constraints:\n",
      "    \"inventory_film_id_fkey\" FOREIGN KEY (film_id) REFERENCES pagila.film(film_id) ON UPDATE CASCADE ON DELETE RESTRICT\n",
      "    \"inventory_store_id_fkey\" FOREIGN KEY (store_id) REFERENCES pagila.store(store_id) ON UPDATE CASCADE ON DELETE RESTRICT\n",
      "Referenced by:\n",
      "    TABLE \"pagila.rental\" CONSTRAINT \"rental_inventory_id_fkey\" FOREIGN KEY (inventory_id) REFERENCES pagila.inventory(inventory_id) ON UPDATE CASCADE ON DELETE RESTRICT\n",
      "Triggers:\n",
      "    last_updated BEFORE UPDATE ON pagila.inventory FOR EACH ROW EXECUTE FUNCTION pagila.last_updated()\n",
      "\n"
     ]
    }
   ],
   "source": [
    "!psql -c \"\\d pagila.inventory\""
   ]
  },
  {
   "cell_type": "code",
   "execution_count": 37,
   "id": "0b4f7c6f-cb93-4fd1-bd6b-4336b0c14501",
   "metadata": {},
   "outputs": [
    {
     "name": "stdout",
     "output_type": "stream",
     "text": [
      "                                               Table \"pagila.language\"\n",
      "   Column    |           Type           | Collation | Nullable |                       Default                        \n",
      "-------------+--------------------------+-----------+----------+------------------------------------------------------\n",
      " language_id | integer                  |           | not null | nextval('pagila.language_language_id_seq'::regclass)\n",
      " name        | character(20)            |           | not null | \n",
      " last_update | timestamp with time zone |           | not null | now()\n",
      "Indexes:\n",
      "    \"language_pkey\" PRIMARY KEY, btree (language_id)\n",
      "Referenced by:\n",
      "    TABLE \"pagila.film\" CONSTRAINT \"film_language_id_fkey\" FOREIGN KEY (language_id) REFERENCES pagila.language(language_id) ON UPDATE CASCADE ON DELETE RESTRICT\n",
      "    TABLE \"pagila.film\" CONSTRAINT \"film_original_language_id_fkey\" FOREIGN KEY (original_language_id) REFERENCES pagila.language(language_id) ON UPDATE CASCADE ON DELETE RESTRICT\n",
      "Triggers:\n",
      "    last_updated BEFORE UPDATE ON pagila.language FOR EACH ROW EXECUTE FUNCTION pagila.last_updated()\n",
      "\n"
     ]
    }
   ],
   "source": [
    "!psql -c \"\\d pagila.language\""
   ]
  },
  {
   "cell_type": "code",
   "execution_count": 38,
   "id": "b87b73c5-8b8b-4beb-9393-d129a005dec8",
   "metadata": {},
   "outputs": [
    {
     "name": "stdout",
     "output_type": "stream",
     "text": [
      "                                               Table \"pagila.payment\"\n",
      "    Column    |           Type           | Collation | Nullable |                      Default                       \n",
      "--------------+--------------------------+-----------+----------+----------------------------------------------------\n",
      " payment_id   | integer                  |           | not null | nextval('pagila.payment_payment_id_seq'::regclass)\n",
      " customer_id  | smallint                 |           | not null | \n",
      " staff_id     | smallint                 |           | not null | \n",
      " rental_id    | integer                  |           | not null | \n",
      " amount       | numeric(5,2)             |           | not null | \n",
      " payment_date | timestamp with time zone |           | not null | \n",
      "Indexes:\n",
      "    \"payment_pkey\" PRIMARY KEY, btree (payment_id)\n",
      "    \"idx_fk_customer_id\" btree (customer_id)\n",
      "    \"idx_fk_staff_id\" btree (staff_id)\n",
      "Foreign-key constraints:\n",
      "    \"customer_id_fkey\" FOREIGN KEY (customer_id) REFERENCES pagila.customer(customer_id) ON UPDATE CASCADE ON DELETE RESTRICT\n",
      "    \"rental_id_fkey\" FOREIGN KEY (rental_id) REFERENCES pagila.rental(rental_id) ON UPDATE CASCADE ON DELETE RESTRICT\n",
      "    \"staff_id_fkey\" FOREIGN KEY (staff_id) REFERENCES pagila.staff(staff_id) ON UPDATE CASCADE ON DELETE RESTRICT\n",
      "\n"
     ]
    }
   ],
   "source": [
    "!psql -c \"\\d pagila.payment\""
   ]
  },
  {
   "cell_type": "code",
   "execution_count": 39,
   "id": "acb2e22c-a2da-457c-a78b-11ade3894a09",
   "metadata": {},
   "outputs": [
    {
     "name": "stdout",
     "output_type": "stream",
     "text": [
      "                                               Table \"pagila.rental\"\n",
      "    Column    |           Type           | Collation | Nullable |                     Default                      \n",
      "--------------+--------------------------+-----------+----------+--------------------------------------------------\n",
      " rental_id    | integer                  |           | not null | nextval('pagila.rental_rental_id_seq'::regclass)\n",
      " rental_date  | timestamp with time zone |           | not null | \n",
      " inventory_id | integer                  |           | not null | \n",
      " customer_id  | smallint                 |           | not null | \n",
      " return_date  | timestamp with time zone |           |          | \n",
      " staff_id     | smallint                 |           | not null | \n",
      " last_update  | timestamp with time zone |           | not null | now()\n",
      "Indexes:\n",
      "    \"rental_pkey\" PRIMARY KEY, btree (rental_id)\n",
      "    \"idx_fk_inventory_id\" btree (inventory_id)\n",
      "    \"idx_unq_rental_rental_date_inventory_id_customer_id\" UNIQUE, btree (rental_date, inventory_id, customer_id)\n",
      "Foreign-key constraints:\n",
      "    \"rental_customer_id_fkey\" FOREIGN KEY (customer_id) REFERENCES pagila.customer(customer_id) ON UPDATE CASCADE ON DELETE RESTRICT\n",
      "    \"rental_inventory_id_fkey\" FOREIGN KEY (inventory_id) REFERENCES pagila.inventory(inventory_id) ON UPDATE CASCADE ON DELETE RESTRICT\n",
      "    \"rental_staff_id_fkey\" FOREIGN KEY (staff_id) REFERENCES pagila.staff(staff_id) ON UPDATE CASCADE ON DELETE RESTRICT\n",
      "Referenced by:\n",
      "    TABLE \"pagila.payment\" CONSTRAINT \"rental_id_fkey\" FOREIGN KEY (rental_id) REFERENCES pagila.rental(rental_id) ON UPDATE CASCADE ON DELETE RESTRICT\n",
      "Triggers:\n",
      "    last_updated BEFORE UPDATE ON pagila.rental FOR EACH ROW EXECUTE FUNCTION pagila.last_updated()\n",
      "\n"
     ]
    }
   ],
   "source": [
    "!psql -c \"\\d pagila.rental\""
   ]
  },
  {
   "cell_type": "code",
   "execution_count": 40,
   "id": "42b5ebbc-060d-4855-ad52-398299a6c706",
   "metadata": {},
   "outputs": [
    {
     "name": "stdout",
     "output_type": "stream",
     "text": [
      "                                              Table \"pagila.staff\"\n",
      "   Column    |           Type           | Collation | Nullable |                    Default                     \n",
      "-------------+--------------------------+-----------+----------+------------------------------------------------\n",
      " staff_id    | integer                  |           | not null | nextval('pagila.staff_staff_id_seq'::regclass)\n",
      " first_name  | text                     |           | not null | \n",
      " last_name   | text                     |           | not null | \n",
      " address_id  | smallint                 |           | not null | \n",
      " email       | text                     |           |          | \n",
      " store_id    | smallint                 |           | not null | \n",
      " active      | boolean                  |           | not null | true\n",
      " username    | text                     |           | not null | \n",
      " password    | text                     |           |          | \n",
      " last_update | timestamp with time zone |           | not null | now()\n",
      " picture     | bytea                    |           |          | \n",
      "Indexes:\n",
      "    \"staff_pkey\" PRIMARY KEY, btree (staff_id)\n",
      "Foreign-key constraints:\n",
      "    \"staff_address_id_fkey\" FOREIGN KEY (address_id) REFERENCES pagila.address(address_id) ON UPDATE CASCADE ON DELETE RESTRICT\n",
      "    \"staff_store_id_fkey\" FOREIGN KEY (store_id) REFERENCES pagila.store(store_id)\n",
      "Referenced by:\n",
      "    TABLE \"pagila.rental\" CONSTRAINT \"rental_staff_id_fkey\" FOREIGN KEY (staff_id) REFERENCES pagila.staff(staff_id) ON UPDATE CASCADE ON DELETE RESTRICT\n",
      "    TABLE \"pagila.payment\" CONSTRAINT \"staff_id_fkey\" FOREIGN KEY (staff_id) REFERENCES pagila.staff(staff_id) ON UPDATE CASCADE ON DELETE RESTRICT\n",
      "Triggers:\n",
      "    last_updated BEFORE UPDATE ON pagila.staff FOR EACH ROW EXECUTE FUNCTION pagila.last_updated()\n",
      "\n"
     ]
    }
   ],
   "source": [
    "!psql -c \"\\d pagila.staff\""
   ]
  },
  {
   "cell_type": "code",
   "execution_count": 41,
   "id": "3497288a-94b3-4c2e-9be7-d030e7b92f5c",
   "metadata": {},
   "outputs": [
    {
     "name": "stdout",
     "output_type": "stream",
     "text": [
      "                                                Table \"pagila.store\"\n",
      "      Column      |           Type           | Collation | Nullable |                    Default                     \n",
      "------------------+--------------------------+-----------+----------+------------------------------------------------\n",
      " store_id         | integer                  |           | not null | nextval('pagila.store_store_id_seq'::regclass)\n",
      " manager_staff_id | smallint                 |           | not null | \n",
      " address_id       | smallint                 |           | not null | \n",
      " last_update      | timestamp with time zone |           | not null | now()\n",
      "Indexes:\n",
      "    \"store_pkey\" PRIMARY KEY, btree (store_id)\n",
      "    \"idx_unq_manager_staff_id\" UNIQUE, btree (manager_staff_id)\n",
      "Foreign-key constraints:\n",
      "    \"store_address_id_fkey\" FOREIGN KEY (address_id) REFERENCES pagila.address(address_id) ON UPDATE CASCADE ON DELETE RESTRICT\n",
      "Referenced by:\n",
      "    TABLE \"pagila.customer\" CONSTRAINT \"customer_store_id_fkey\" FOREIGN KEY (store_id) REFERENCES pagila.store(store_id) ON UPDATE CASCADE ON DELETE RESTRICT\n",
      "    TABLE \"pagila.inventory\" CONSTRAINT \"inventory_store_id_fkey\" FOREIGN KEY (store_id) REFERENCES pagila.store(store_id) ON UPDATE CASCADE ON DELETE RESTRICT\n",
      "    TABLE \"pagila.staff\" CONSTRAINT \"staff_store_id_fkey\" FOREIGN KEY (store_id) REFERENCES pagila.store(store_id)\n",
      "Triggers:\n",
      "    last_updated BEFORE UPDATE ON pagila.store FOR EACH ROW EXECUTE FUNCTION pagila.last_updated()\n",
      "\n"
     ]
    }
   ],
   "source": [
    "!psql -c \"\\d pagila.store\""
   ]
  },
  {
   "cell_type": "code",
   "execution_count": 21,
   "id": "4ffa2c18-61b8-4cf6-ba83-261475418745",
   "metadata": {},
   "outputs": [
    {
     "name": "stdout",
     "output_type": "stream",
     "text": [
      "SELECT 12413\n"
     ]
    }
   ],
   "source": [
    "# This inner join combines the ID information for films, actors, and stores, sorted by the actor and limited to inventory in the store with the ID of 1\n",
    "!psql -c \"CREATE table pagila.film_inventory AS SELECT film_actor.film_id, actor_id, store_id FROM pagila.film_actor INNER JOIN pagila.inventory ON inventory.film_id = film_actor.film_id WHERE store_id = 1 ORDER BY actor_id\"\n"
   ]
  },
  {
   "cell_type": "code",
   "execution_count": 23,
   "id": "96f79dd4-990d-4634-96bf-c9b93da3ef09",
   "metadata": {},
   "outputs": [
    {
     "name": "stdout",
     "output_type": "stream",
     "text": [
      " film_id | actor_id | store_id \n",
      "---------+----------+----------\n",
      "       1 |        1 |        1\n",
      "       1 |        1 |        1\n",
      "       1 |        1 |        1\n",
      "       1 |        1 |        1\n",
      "      23 |        1 |        1\n",
      "      23 |        1 |        1\n",
      "      23 |        1 |        1\n",
      "      25 |        1 |        1\n",
      "      25 |        1 |        1\n",
      "      25 |        1 |        1\n",
      "      25 |        1 |        1\n",
      "     106 |        1 |        1\n",
      "     106 |        1 |        1\n",
      "     140 |        1 |        1\n",
      "     140 |        1 |        1\n",
      "     166 |        1 |        1\n",
      "     166 |        1 |        1\n",
      "     166 |        1 |        1\n",
      "     166 |        1 |        1\n",
      "     277 |        1 |        1\n",
      "(20 rows)\n",
      "\n"
     ]
    }
   ],
   "source": [
    "!psql -c \"select * from pagila.film_inventory limit 20\""
   ]
  },
  {
   "cell_type": "code",
   "execution_count": 26,
   "id": "bc1db79b-d0bc-45f6-8024-85c2d7635dbe",
   "metadata": {},
   "outputs": [
    {
     "name": "stdout",
     "output_type": "stream",
     "text": [
      "SELECT 96\n"
     ]
    }
   ],
   "source": [
    "# This inner join creates a table that has ID information on the actors, films, and stores, as well as the actors' first and last names, limited to the first two actors\n",
    "!psql -c \"CREATE table pagila.actor_inventory AS SELECT actor.actor_id, first_name, last_name, film_id, store_id FROM pagila.actor INNER JOIN pagila.film_inventory ON film_inventory.actor_id = actor.actor_id WHERE actor.actor_id < 3 ORDER BY actor_id\"\n"
   ]
  },
  {
   "cell_type": "code",
   "execution_count": 31,
   "id": "40b9d18f-e90f-4d64-a9fc-b40d92615dc7",
   "metadata": {},
   "outputs": [
    {
     "name": "stdout",
     "output_type": "stream",
     "text": [
      " actor_id | first_name | last_name | film_id | store_id \n",
      "----------+------------+-----------+---------+----------\n",
      "        1 | PENELOPE   | GUINESS   |       1 |        1\n",
      "        1 | PENELOPE   | GUINESS   |       1 |        1\n",
      "        1 | PENELOPE   | GUINESS   |       1 |        1\n",
      "        1 | PENELOPE   | GUINESS   |       1 |        1\n",
      "        1 | PENELOPE   | GUINESS   |      23 |        1\n",
      "        1 | PENELOPE   | GUINESS   |      23 |        1\n",
      "        1 | PENELOPE   | GUINESS   |      23 |        1\n",
      "        1 | PENELOPE   | GUINESS   |      25 |        1\n",
      "        1 | PENELOPE   | GUINESS   |      25 |        1\n",
      "        1 | PENELOPE   | GUINESS   |      25 |        1\n",
      "        1 | PENELOPE   | GUINESS   |      25 |        1\n",
      "        1 | PENELOPE   | GUINESS   |     106 |        1\n",
      "        1 | PENELOPE   | GUINESS   |     106 |        1\n",
      "        1 | PENELOPE   | GUINESS   |     140 |        1\n",
      "        1 | PENELOPE   | GUINESS   |     140 |        1\n",
      "        1 | PENELOPE   | GUINESS   |     166 |        1\n",
      "        1 | PENELOPE   | GUINESS   |     166 |        1\n",
      "        1 | PENELOPE   | GUINESS   |     166 |        1\n",
      "        1 | PENELOPE   | GUINESS   |     166 |        1\n",
      "        1 | PENELOPE   | GUINESS   |     277 |        1\n",
      "        1 | PENELOPE   | GUINESS   |     277 |        1\n",
      "        1 | PENELOPE   | GUINESS   |     277 |        1\n",
      "        1 | PENELOPE   | GUINESS   |     361 |        1\n",
      "        1 | PENELOPE   | GUINESS   |     361 |        1\n",
      "        1 | PENELOPE   | GUINESS   |     361 |        1\n",
      "        1 | PENELOPE   | GUINESS   |     361 |        1\n",
      "        1 | PENELOPE   | GUINESS   |     438 |        1\n",
      "        1 | PENELOPE   | GUINESS   |     438 |        1\n",
      "        1 | PENELOPE   | GUINESS   |     499 |        1\n",
      "        1 | PENELOPE   | GUINESS   |     499 |        1\n",
      "        1 | PENELOPE   | GUINESS   |     506 |        1\n",
      "        1 | PENELOPE   | GUINESS   |     506 |        1\n",
      "        1 | PENELOPE   | GUINESS   |     506 |        1\n",
      "        1 | PENELOPE   | GUINESS   |     506 |        1\n",
      "        1 | PENELOPE   | GUINESS   |     749 |        1\n",
      "        1 | PENELOPE   | GUINESS   |     749 |        1\n",
      "        1 | PENELOPE   | GUINESS   |     832 |        1\n",
      "        1 | PENELOPE   | GUINESS   |     832 |        1\n",
      "        1 | PENELOPE   | GUINESS   |     832 |        1\n",
      "        1 | PENELOPE   | GUINESS   |     832 |        1\n",
      "        1 | PENELOPE   | GUINESS   |     970 |        1\n",
      "        1 | PENELOPE   | GUINESS   |     970 |        1\n",
      "        1 | PENELOPE   | GUINESS   |     970 |        1\n",
      "        1 | PENELOPE   | GUINESS   |     980 |        1\n",
      "        1 | PENELOPE   | GUINESS   |     980 |        1\n",
      "        1 | PENELOPE   | GUINESS   |     980 |        1\n",
      "        2 | NICK       | WAHLBERG  |      31 |        1\n",
      "        2 | NICK       | WAHLBERG  |      31 |        1\n",
      "        2 | NICK       | WAHLBERG  |      31 |        1\n",
      "        2 | NICK       | WAHLBERG  |      31 |        1\n",
      "        2 | NICK       | WAHLBERG  |     105 |        1\n",
      "        2 | NICK       | WAHLBERG  |     105 |        1\n",
      "        2 | NICK       | WAHLBERG  |     132 |        1\n",
      "        2 | NICK       | WAHLBERG  |     132 |        1\n",
      "        2 | NICK       | WAHLBERG  |     132 |        1\n",
      "        2 | NICK       | WAHLBERG  |     132 |        1\n",
      "        2 | NICK       | WAHLBERG  |     226 |        1\n",
      "        2 | NICK       | WAHLBERG  |     226 |        1\n",
      "        2 | NICK       | WAHLBERG  |     249 |        1\n",
      "        2 | NICK       | WAHLBERG  |     249 |        1\n",
      "        2 | NICK       | WAHLBERG  |     314 |        1\n",
      "        2 | NICK       | WAHLBERG  |     314 |        1\n",
      "        2 | NICK       | WAHLBERG  |     321 |        1\n",
      "        2 | NICK       | WAHLBERG  |     321 |        1\n",
      "        2 | NICK       | WAHLBERG  |     321 |        1\n",
      "        2 | NICK       | WAHLBERG  |     321 |        1\n",
      "        2 | NICK       | WAHLBERG  |     369 |        1\n",
      "        2 | NICK       | WAHLBERG  |     369 |        1\n",
      "        2 | NICK       | WAHLBERG  |     369 |        1\n",
      "        2 | NICK       | WAHLBERG  |     369 |        1\n",
      "        2 | NICK       | WAHLBERG  |     458 |        1\n",
      "        2 | NICK       | WAHLBERG  |     458 |        1\n",
      "        2 | NICK       | WAHLBERG  |     481 |        1\n",
      "        2 | NICK       | WAHLBERG  |     481 |        1\n",
      "        2 | NICK       | WAHLBERG  |     481 |        1\n",
      "        2 | NICK       | WAHLBERG  |     518 |        1\n",
      "        2 | NICK       | WAHLBERG  |     518 |        1\n",
      "        2 | NICK       | WAHLBERG  |     540 |        1\n",
      "        2 | NICK       | WAHLBERG  |     540 |        1\n",
      "        2 | NICK       | WAHLBERG  |     540 |        1\n",
      "        2 | NICK       | WAHLBERG  |     550 |        1\n",
      "        2 | NICK       | WAHLBERG  |     550 |        1\n",
      "        2 | NICK       | WAHLBERG  |     550 |        1\n",
      "        2 | NICK       | WAHLBERG  |     555 |        1\n",
      "        2 | NICK       | WAHLBERG  |     555 |        1\n",
      "        2 | NICK       | WAHLBERG  |     555 |        1\n",
      "        2 | NICK       | WAHLBERG  |     561 |        1\n",
      "        2 | NICK       | WAHLBERG  |     561 |        1\n",
      "        2 | NICK       | WAHLBERG  |     561 |        1\n",
      "        2 | NICK       | WAHLBERG  |     561 |        1\n",
      "        2 | NICK       | WAHLBERG  |     811 |        1\n",
      "        2 | NICK       | WAHLBERG  |     811 |        1\n",
      "        2 | NICK       | WAHLBERG  |     811 |        1\n",
      "        2 | NICK       | WAHLBERG  |     958 |        1\n",
      "        2 | NICK       | WAHLBERG  |     958 |        1\n",
      "        2 | NICK       | WAHLBERG  |     958 |        1\n",
      "(96 rows)\n",
      "\n"
     ]
    }
   ],
   "source": [
    "!psql -c \"select * from pagila.actor_inventory\""
   ]
  },
  {
   "cell_type": "code",
   "execution_count": 34,
   "id": "d7cbee60-0cba-4f87-8e35-6be0f3b7bad1",
   "metadata": {},
   "outputs": [
    {
     "name": "stdout",
     "output_type": "stream",
     "text": [
      "SELECT 87\n"
     ]
    }
   ],
   "source": [
    "# This inner join creates a table with film ID and title, actor ID and full name, as well as store ID, limited to the first 900 films\n",
    "!psql -c \"CREATE table pagila.actor_film_inventory AS SELECT film.film_id, title, actor_id, first_name, last_name, store_id FROM pagila.film INNER JOIN pagila.actor_inventory ON actor_inventory.film_id = film.film_id WHERE film.film_id < 900 ORDER BY actor_id\"\n"
   ]
  },
  {
   "cell_type": "code",
   "execution_count": 44,
   "id": "462baa88-c83f-4964-ba1a-bfa8b59db2dc",
   "metadata": {},
   "outputs": [
    {
     "name": "stdout",
     "output_type": "stream",
     "text": [
      " film_id |         title         | actor_id | first_name | last_name | store_id \n",
      "---------+-----------------------+----------+------------+-----------+----------\n",
      "       1 | ACADEMY DINOSAUR      |        1 | PENELOPE   | GUINESS   |        1\n",
      "       1 | ACADEMY DINOSAUR      |        1 | PENELOPE   | GUINESS   |        1\n",
      "       1 | ACADEMY DINOSAUR      |        1 | PENELOPE   | GUINESS   |        1\n",
      "       1 | ACADEMY DINOSAUR      |        1 | PENELOPE   | GUINESS   |        1\n",
      "      23 | ANACONDA CONFESSIONS  |        1 | PENELOPE   | GUINESS   |        1\n",
      "      23 | ANACONDA CONFESSIONS  |        1 | PENELOPE   | GUINESS   |        1\n",
      "      23 | ANACONDA CONFESSIONS  |        1 | PENELOPE   | GUINESS   |        1\n",
      "      25 | ANGELS LIFE           |        1 | PENELOPE   | GUINESS   |        1\n",
      "      25 | ANGELS LIFE           |        1 | PENELOPE   | GUINESS   |        1\n",
      "      25 | ANGELS LIFE           |        1 | PENELOPE   | GUINESS   |        1\n",
      "      25 | ANGELS LIFE           |        1 | PENELOPE   | GUINESS   |        1\n",
      "     106 | BULWORTH COMMANDMENTS |        1 | PENELOPE   | GUINESS   |        1\n",
      "(12 rows)\n",
      "\n"
     ]
    }
   ],
   "source": [
    "!psql -c \"select * from pagila.actor_film_inventory LIMIT 12\""
   ]
  },
  {
   "cell_type": "code",
   "execution_count": 41,
   "id": "bd4f2370-c3cc-45cd-a258-0a266a277d70",
   "metadata": {},
   "outputs": [
    {
     "name": "stdout",
     "output_type": "stream",
     "text": [
      " address_id |              address               | address2 |    district    | city_id | postal_code |    phone     |      last_update       \n",
      "------------+------------------------------------+----------+----------------+---------+-------------+--------------+------------------------\n",
      "          1 | 47 MySakila Drive                  |          | Alberta        |     300 |             |              | 2017-02-15 09:45:30+00\n",
      "          2 | 28 MySQL Boulevard                 |          | QLD            |     576 |             |              | 2017-02-15 09:45:30+00\n",
      "          3 | 23 Workhaven Lane                  |          | Alberta        |     300 |             | 14033335568  | 2017-02-15 09:45:30+00\n",
      "          4 | 1411 Lillydale Drive               |          | QLD            |     576 |             | 6172235589   | 2017-02-15 09:45:30+00\n",
      "          5 | 1913 Hanoi Way                     |          | Nagasaki       |     463 | 35200       | 28303384290  | 2017-02-15 09:45:30+00\n",
      "          6 | 1121 Loja Avenue                   |          | California     |     449 | 17886       | 838635286649 | 2017-02-15 09:45:30+00\n",
      "          7 | 692 Joliet Street                  |          | Attika         |      38 | 83579       | 448477190408 | 2017-02-15 09:45:30+00\n",
      "          8 | 1566 Inegl Manor                   |          | Mandalay       |     349 | 53561       | 705814003527 | 2017-02-15 09:45:30+00\n",
      "          9 | 53 Idfu Parkway                    |          | Nantou         |     361 | 42399       | 10655648674  | 2017-02-15 09:45:30+00\n",
      "         10 | 1795 Santiago de Compostela Way    |          | Texas          |     295 | 18743       | 860452626434 | 2017-02-15 09:45:30+00\n",
      "         11 | 900 Santiago de Compostela Parkway |          | Central Serbia |     280 | 93896       | 716571220373 | 2017-02-15 09:45:30+00\n",
      "         12 | 478 Joliet Way                     |          | Hamilton       |     200 | 77948       | 657282285970 | 2017-02-15 09:45:30+00\n",
      "(12 rows)\n",
      "\n"
     ]
    }
   ],
   "source": [
    "!psql -c \"select * from pagila.address LIMIT 12\""
   ]
  },
  {
   "cell_type": "code",
   "execution_count": 38,
   "id": "9496d002-257e-4518-b813-1c703f471ec8",
   "metadata": {},
   "outputs": [
    {
     "name": "stdout",
     "output_type": "stream",
     "text": [
      " store_id | manager_staff_id | address_id |      last_update       \n",
      "----------+------------------+------------+------------------------\n",
      "        1 |                1 |          1 | 2017-02-15 09:57:12+00\n",
      "        2 |                2 |          2 | 2017-02-15 09:57:12+00\n",
      "(2 rows)\n",
      "\n"
     ]
    }
   ],
   "source": [
    "!psql -c \"select * from pagila.store\""
   ]
  },
  {
   "cell_type": "code",
   "execution_count": 45,
   "id": "316f94ae-c5f6-4038-adee-37d46b5ddd49",
   "metadata": {},
   "outputs": [
    {
     "name": "stdout",
     "output_type": "stream",
     "text": [
      "SELECT 2\n"
     ]
    }
   ],
   "source": [
    "# Left outer join to create a table with information about district and city ID using the address ID from both tables\n",
    "!psql -c \"CREATE table store_city_id AS SELECT store_id, district, city_id FROM pagila.store LEFT JOIN pagila.address ON store.address_id = address.address_id WHERE address.address_id < 3 ORDER BY store_id\""
   ]
  },
  {
   "cell_type": "code",
   "execution_count": 47,
   "id": "4dd0ed01-4912-4eaa-b0f3-09c2dda961ba",
   "metadata": {},
   "outputs": [
    {
     "name": "stdout",
     "output_type": "stream",
     "text": [
      " store_id | district | city_id \n",
      "----------+----------+---------\n",
      "        1 | Alberta  |     300\n",
      "        2 | QLD      |     576\n",
      "(2 rows)\n",
      "\n"
     ]
    }
   ],
   "source": [
    "!psql -c \"select * from store_city_id\""
   ]
  },
  {
   "cell_type": "code",
   "execution_count": 68,
   "id": "d03813d6-b756-4c4d-91fa-6939598c72cb",
   "metadata": {},
   "outputs": [
    {
     "name": "stdout",
     "output_type": "stream",
     "text": [
      "SELECT 2\n"
     ]
    }
   ],
   "source": [
    "# Left outer join to create a table with names of city and district using city ID\n",
    "!psql -c \"CREATE table store_city AS SELECT store_id, district, city FROM store_city_id LEFT JOIN pagila.city ON city.city_id = store_city_id.city_id WHERE city.city_id < 600 ORDER BY city\"\n"
   ]
  },
  {
   "cell_type": "code",
   "execution_count": 69,
   "id": "5fe23af4-71ac-420d-81be-789ab3c2a0fa",
   "metadata": {},
   "outputs": [
    {
     "name": "stdout",
     "output_type": "stream",
     "text": [
      " store_id | district |    city    \n",
      "----------+----------+------------\n",
      "        1 | Alberta  | Lethbridge\n",
      "        2 | QLD      | Woodridge\n",
      "(2 rows)\n",
      "\n"
     ]
    }
   ],
   "source": [
    "!psql -c \"select * from store_city\""
   ]
  },
  {
   "cell_type": "code",
   "execution_count": 65,
   "id": "ea6f5c0f-3470-4a31-a0cc-b450db6487a8",
   "metadata": {},
   "outputs": [
    {
     "name": "stdout",
     "output_type": "stream",
     "text": [
      "SELECT 2\n"
     ]
    }
   ],
   "source": [
    "# Left outer join to create a table with full name of employees and the district and city they work in using store ID\n",
    "!psql -c \"CREATE table employee_city AS SELECT district, city, first_name, last_name FROM store_city LEFT JOIN pagila.staff ON staff.store_id = store_city.store_id WHERE store_city.store_id < 3 ORDER BY last_name\"\n"
   ]
  },
  {
   "cell_type": "code",
   "execution_count": 66,
   "id": "3f3e30e5-4c40-4ce6-aeb0-5012bdaa5e2c",
   "metadata": {},
   "outputs": [
    {
     "name": "stdout",
     "output_type": "stream",
     "text": [
      " district |    city    | first_name | last_name \n",
      "----------+------------+------------+-----------\n",
      " Alberta  | Lethbridge | Mike       | Hillyer\n",
      " QLD      | Woodridge  | Jon        | Stephens\n",
      "(2 rows)\n",
      "\n"
     ]
    }
   ],
   "source": [
    "!psql -c \"SELECT * from employee_city\""
   ]
  },
  {
   "cell_type": "code",
   "execution_count": 84,
   "id": "0be52585-2136-4e27-8af2-59b44601d472",
   "metadata": {},
   "outputs": [
    {
     "name": "stdout",
     "output_type": "stream",
     "text": [
      " first_name | first_name | actor_id \n",
      "------------+------------+----------\n",
      " PENELOPE   | PENELOPE   |      120\n",
      " PENELOPE   | PENELOPE   |      104\n",
      " PENELOPE   | PENELOPE   |       54\n",
      " NICK       | NICK       |      166\n",
      " NICK       | NICK       |       44\n",
      " ED         | ED         |      179\n",
      " ED         | ED         |      136\n",
      " JOHNNY     | JOHNNY     |       40\n",
      " MATTHEW    | MATTHEW    |      181\n",
      " MATTHEW    | MATTHEW    |      103\n",
      " CHRISTIAN  | CHRISTIAN  |       61\n",
      " CHRISTIAN  | CHRISTIAN  |       58\n",
      "(12 rows)\n",
      "\n"
     ]
    }
   ],
   "source": [
    "# self join to find actors with the same first name and display their actor IDs\n",
    "!psql -c \"SELECT a1.first_name, a2.first_name, a2.actor_id FROM pagila.actor a1 JOIN pagila.actor a2 ON a1.actor_id != a2.actor_id AND a1.first_name = a2.first_name LIMIT 12\"\n"
   ]
  },
  {
   "cell_type": "code",
   "execution_count": null,
   "id": "223be849-ebd2-476e-b6b9-be9d1dbc0cf7",
   "metadata": {},
   "outputs": [],
   "source": []
  }
 ],
 "metadata": {
  "environment": {
   "kernel": "python3",
   "name": "common-cpu.m87",
   "type": "gcloud",
   "uri": "gcr.io/deeplearning-platform-release/base-cpu:m87"
  },
  "kernelspec": {
   "display_name": "Python 3",
   "language": "python",
   "name": "python3"
  },
  "language_info": {
   "codemirror_mode": {
    "name": "ipython",
    "version": 3
   },
   "file_extension": ".py",
   "mimetype": "text/x-python",
   "name": "python",
   "nbconvert_exporter": "python",
   "pygments_lexer": "ipython3",
   "version": "3.7.12"
  }
 },
 "nbformat": 4,
 "nbformat_minor": 5
}
